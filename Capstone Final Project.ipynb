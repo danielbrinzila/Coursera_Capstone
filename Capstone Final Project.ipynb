{
    "cells": [
        {
            "metadata": {
                "collapsed": true
            },
            "cell_type": "markdown",
            "source": "# Capstone Project - The Battle of the Neighborhoods\n\n\n1. Introduction\n\nNew York is highly competitive and densly populated city which makes it hard for new businesses to asses their best chances at success. Within the 5 boroughs there are plenty of good and bad venues of various categories which can provide valuable insight into the current state and possible prediction of new business success. Given freely available data how can we create a predictive model for best area and category of business which is most likely to succeed and the factors which will help guide the decision.\n\n\n2. Data Description\nUsing open data about the boroughs and neighborhoods and their central coordinates we can use Foursquare's API to get all venues within those neighborhoods. Cleaning the data and normalizing it to contain only important details of the venue such as venue category, venue rating, popular hours, like/dislike ratio etc. Having this detailed venue data for each neighborhoods we could create a model to find the most impactful venue attributes to further develop our predictive model for the most suitable place for a successful business location.\n"
        },
        {
            "metadata": {},
            "cell_type": "code",
            "source": "",
            "execution_count": null,
            "outputs": []
        }
    ],
    "metadata": {
        "kernelspec": {
            "name": "python3",
            "display_name": "Python 3.7",
            "language": "python"
        },
        "language_info": {
            "name": "python",
            "version": "3.7.9",
            "mimetype": "text/x-python",
            "codemirror_mode": {
                "name": "ipython",
                "version": 3
            },
            "pygments_lexer": "ipython3",
            "nbconvert_exporter": "python",
            "file_extension": ".py"
        }
    },
    "nbformat": 4,
    "nbformat_minor": 1
}